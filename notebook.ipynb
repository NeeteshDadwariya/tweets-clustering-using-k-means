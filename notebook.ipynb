{
  "cells": [
    {
      "cell_type": "markdown",
      "metadata": {
        "id": "view-in-github",
        "colab_type": "text"
      },
      "source": [
        "<a href=\"https://colab.research.google.com/github/NeeteshDadwariya/tweets-clustering-using-k-means/blob/main/notebook.ipynb\" target=\"_parent\"><img src=\"https://colab.research.google.com/assets/colab-badge.svg\" alt=\"Open In Colab\"/></a>"
      ]
    },
    {
      "cell_type": "markdown",
      "source": [
        "# Tweet Clustering Using K-Means"
      ],
      "metadata": {
        "id": "g3EZU_Bf9gey"
      }
    },
    {
      "cell_type": "markdown",
      "source": [
        "### Importing Libraries"
      ],
      "metadata": {
        "id": "m3X_xcyQ9mBu"
      }
    },
    {
      "cell_type": "code",
      "execution_count": null,
      "metadata": {
        "id": "WojkBjHf9H_q"
      },
      "outputs": [],
      "source": [
        "import string\n",
        "import re\n",
        "import os\n",
        "import random\n",
        "import math\n",
        "import matplotlib.pyplot as plt\n",
        "import numpy as np\n",
        "import pandas as pd"
      ]
    },
    {
      "cell_type": "markdown",
      "source": [
        "### Downloading Dataset"
      ],
      "metadata": {
        "id": "iw4zYvbuAlsj"
      }
    },
    {
      "cell_type": "code",
      "execution_count": null,
      "metadata": {
        "id": "SQcUBdG-ryqQ"
      },
      "outputs": [],
      "source": [
        "!gdown \"1-4tJknU_0fzyyhb-v5A_qs8FlH1CIaCA\"\n",
        "!unzip -o Health-News-Tweets.zip &> /dev/null"
      ]
    },
    {
      "cell_type": "code",
      "source": [
        "tweet_folder = './Health-Tweets'\n",
        "tweet_file = 'nytimeshealth.txt'\n",
        "\n",
        "#Reading the tweets file\n",
        "with open(os.path.join(tweet_folder, tweet_file)) as f:\n",
        "    tweets = f.readlines()"
      ],
      "metadata": {
        "id": "jDhXa_RhUaQ0"
      },
      "execution_count": null,
      "outputs": []
    },
    {
      "cell_type": "code",
      "source": [
        "print(\"Total tweets found:{}\", len(tweets))"
      ],
      "metadata": {
        "id": "51vg023vXd2U"
      },
      "execution_count": null,
      "outputs": []
    },
    {
      "cell_type": "code",
      "source": [
        "def print_tweets(tweets):\n",
        "    for tweet in tweets[:5]:\n",
        "        print(tweet)\n",
        "\n",
        "print_tweets(tweets)"
      ],
      "metadata": {
        "id": "7m-6STlnUxK5"
      },
      "execution_count": null,
      "outputs": []
    },
    {
      "cell_type": "markdown",
      "source": [
        "### Data Preprocessing"
      ],
      "metadata": {
        "id": "y7rCukghAs0e"
      }
    },
    {
      "cell_type": "code",
      "execution_count": null,
      "metadata": {
        "id": "um75S9bF3TxW"
      },
      "outputs": [],
      "source": [
        "def pre_process_tweet(tweet):\n",
        "    #Remove new lines\n",
        "    tweet = tweet.lower().strip('\\n')[50:]\n",
        "    \n",
        "    #Remove '@' symbol\n",
        "    tweet = \" \".join(filter(lambda x: x[0] != '@', tweet.split()))\n",
        "    \n",
        "    #Removel URL's\n",
        "    tweet = re.sub(r\"http\\S+\", \"\", tweet)\n",
        "    tweet = re.sub(r\"www\\S+\", \"\", tweet)\n",
        "    tweet = tweet.strip()\n",
        "    \n",
        "    #Remove special characters\n",
        "    tweet = re.sub(\":\", \"\", tweet)\n",
        "    tweet = re.sub(\"#\", \"\", tweet)\n",
        "\n",
        "    #Remove punctuations\n",
        "    tweet = tweet.translate(str.maketrans('', '', string.punctuation))\n",
        "    tweet = re.sub(\"—\", \"\", tweet)\n",
        "    tweet = re.sub(\"‘\",\"\", tweet)\n",
        "    tweet = re.sub(\"’\",\"\", tweet)\n",
        "    return tweet"
      ]
    },
    {
      "cell_type": "code",
      "source": [
        "def print_tweets(tweets):\n",
        "    for tweet in tweets[:5]:\n",
        "        print(tweet)\n",
        "\n",
        "pre_process_tweets = [pre_process_tweet(tweet) for tweet in tweets]\n",
        "print_tweets(pre_process_tweets)"
      ],
      "metadata": {
        "id": "IqL5KUdlUzc_"
      },
      "execution_count": null,
      "outputs": []
    },
    {
      "cell_type": "markdown",
      "source": [
        "### K-Means Alogirithm using Jacard Distance"
      ],
      "metadata": {
        "id": "oaDpv2tTAzh6"
      }
    },
    {
      "cell_type": "code",
      "execution_count": null,
      "metadata": {
        "id": "hXnYLfnabU-Y"
      },
      "outputs": [],
      "source": [
        "def compare_centroids(old_centroids, new_centroids):\n",
        "  return old_centroids == new_centroids\n",
        "\n",
        "def jaccard_dist(t1, t2):\n",
        "    t1 = set(t1)\n",
        "    t2 = set(t2)\n",
        "    j = float(len(t1.intersection(t2))) / len(t1.union(t2))\n",
        "    return 1-j"
      ]
    },
    {
      "cell_type": "code",
      "execution_count": null,
      "metadata": {
        "id": "3A1JqSQZf3c7"
      },
      "outputs": [],
      "source": [
        "def assign_cluster(tweets, centroids):\n",
        "\n",
        "    clusters = dict()\n",
        "\n",
        "    # Lop through each centroid and assign closest centroid to a it\n",
        "    for t in range(len(tweets)):\n",
        "        min_dist = math.inf\n",
        "        cluster_idx = -1;\n",
        "        for c in range(len(centroids)):\n",
        "            dist = jaccard_dist(centroids[c], tweets[t])\n",
        "            # Find the closest center of the tweet\n",
        "            if centroids[c] == tweets[t]:\n",
        "                cluster_idx = c\n",
        "                min_dist = 0\n",
        "                break\n",
        "\n",
        "            if dist < min_dist:\n",
        "                cluster_idx = c\n",
        "                min_dist = dist\n",
        "\n",
        "        # randomise the centroid assignment to a tweet if nothing is common\n",
        "        if min_dist == 1:\n",
        "            cluster_idx = random.randint(0, len(centroids) - 1)\n",
        "\n",
        "        # assign the closest centroid to a tweet\n",
        "        clusters.setdefault(cluster_idx, []).append([tweets[t]])\n",
        "        tweet_idx = len(clusters[cluster_idx]) - 1\n",
        "        clusters[cluster_idx][tweet_idx].append(min_dist)\n",
        "\n",
        "    return clusters\n",
        "\n",
        "def new_centroids(clusters):\n",
        "\n",
        "    centroids = []\n",
        "\n",
        "    # Loop through each cluster and check for a tweet with closest distance sum with all other tweets in the same cluster\n",
        "    # select that tweet as the centroid for the cluster\n",
        "    for c in range(len(clusters)):\n",
        "        min_sum = math.inf\n",
        "        centroid_idx = -1\n",
        "\n",
        "        # to avoid redundant calculations\n",
        "        min_dis_dp = []\n",
        "\n",
        "        for t1 in range(len(clusters[c])):\n",
        "            min_dis_dp.append([])\n",
        "            sum_of_dist = 0\n",
        "            # get distances sum for every of tweet t1 with every tweet t2 in a same cluster\n",
        "            for t2 in range(len(clusters[c])):\n",
        "                if t1 != t2:\n",
        "                    if t2 < t1:\n",
        "                        dist = min_dis_dp[t2][t1]\n",
        "                    else:\n",
        "                        dist = jaccard_dist(clusters[c][t1][0], clusters[c][t2][0])\n",
        "\n",
        "                    min_dis_dp[t1].append(dist)\n",
        "                    sum_of_dist += dist\n",
        "                else:\n",
        "                    min_dis_dp[t1].append(0)\n",
        "\n",
        "            # select the tweet with the minimum distances sum as the centroid for the cluster\n",
        "            if sum_of_dist < min_sum:\n",
        "                min_sum = sum_of_dist\n",
        "                centroid_idx = t1\n",
        "\n",
        "        # append the selected tweet to the centroid list\n",
        "        centroids.append(clusters[c][centroid_idx][0])\n",
        "\n",
        "    return centroids\n"
      ]
    },
    {
      "cell_type": "code",
      "execution_count": null,
      "metadata": {
        "id": "ZlAVvF3QpBCX"
      },
      "outputs": [],
      "source": [
        "def calculate_SSE(clusters):\n",
        "\n",
        "    sse = 0\n",
        "    # iterate every cluster 'c', compute SSE as the sum of square of distances of the tweet from it's centroid\n",
        "    for c in range(len(clusters)):\n",
        "        for t in range(len(clusters[c])):\n",
        "            sse += (clusters[c][t][1] * clusters[c][t][1])\n",
        "\n",
        "    return sse\n"
      ]
    },
    {
      "cell_type": "code",
      "execution_count": null,
      "metadata": {
        "id": "XbwAMYP0VAaW"
      },
      "outputs": [],
      "source": [
        "def k_means(tweets, k=3, max_iters=50):\n",
        "\n",
        "    centroids = []\n",
        "    count = 0\n",
        "    hash_set = set()\n",
        "\n",
        "    for i in range(k):\n",
        "      random_tweet_idx = random.randint(0, len(tweets) - 1)\n",
        "      if random_tweet_idx not in hash_set:\n",
        "          hash_set.add(random_tweet_idx)\n",
        "          centroids.append(tweets[random_tweet_idx])\n",
        "      else:\n",
        "        i=i-1\n",
        "\n",
        "    iter_count = 0\n",
        "    old_centroids = []\n",
        "\n",
        "    # run the iterations until not converged or until the max iteration in not reached\n",
        "    while (compare_centroids(old_centroids, centroids)) == False and (iter_count < max_iters):\n",
        "\n",
        "        print(\"********* Iteration: {} ************ \" .format(str(iter_count)))\n",
        "        clusters = assign_cluster(tweets, centroids)\n",
        "        old_centroids, centroids = centroids, new_centroids(clusters)\n",
        "        iter_count = iter_count + 1\n",
        "\n",
        "    if (compare_centroids(old_centroids, centroids)) == False:\n",
        "        print(\"Max iterations reached, K means not converged.\")\n",
        "    else:\n",
        "        print(\"K-Means converged after {} iterations.\".format(iter_count))\n",
        "\n",
        "    sse = calculate_SSE(clusters)\n",
        "\n",
        "    return clusters, sse"
      ]
    },
    {
      "cell_type": "markdown",
      "source": [
        "### Model Fitting"
      ],
      "metadata": {
        "id": "pRE9q6UsA8VO"
      }
    },
    {
      "cell_type": "code",
      "execution_count": 27,
      "metadata": {
        "id": "KPdOoDNaEVqj",
        "colab": {
          "base_uri": "https://localhost:8080/"
        },
        "outputId": "03a838f2-a40f-4590-a98e-c44e4ba5790e"
      },
      "outputs": [
        {
          "output_type": "stream",
          "name": "stdout",
          "text": [
            "------------------- K=1-------------------\n",
            "********* Iteration: 0 ************ \n",
            "********* Iteration: 1 ************ \n",
            "K-Means converged after 2 iterations.\n",
            "cluster #1 Tweet cluster size: 6245\n",
            "==> SSE : 377.2097\n",
            "\n",
            "------------------- K=2-------------------\n",
            "********* Iteration: 0 ************ \n",
            "********* Iteration: 1 ************ \n",
            "K-Means converged after 2 iterations.\n",
            "cluster #1 Tweet cluster size: 5298\n",
            "cluster #2 Tweet cluster size: 947\n",
            "==> SSE : 340.9336\n",
            "\n",
            "------------------- K=3-------------------\n",
            "********* Iteration: 0 ************ \n",
            "********* Iteration: 1 ************ \n",
            "********* Iteration: 2 ************ \n",
            "********* Iteration: 3 ************ \n",
            "K-Means converged after 4 iterations.\n",
            "cluster #1 Tweet cluster size: 3388\n",
            "cluster #2 Tweet cluster size: 974\n",
            "cluster #3 Tweet cluster size: 1883\n",
            "==> SSE : 309.4571\n",
            "\n",
            "------------------- K=4-------------------\n",
            "********* Iteration: 0 ************ \n",
            "********* Iteration: 1 ************ \n",
            "********* Iteration: 2 ************ \n",
            "K-Means converged after 3 iterations.\n",
            "cluster #1 Tweet cluster size: 879\n",
            "cluster #2 Tweet cluster size: 1686\n",
            "cluster #3 Tweet cluster size: 2637\n",
            "cluster #4 Tweet cluster size: 1043\n",
            "==> SSE : 281.4147\n",
            "\n",
            "------------------- K=5-------------------\n",
            "********* Iteration: 0 ************ \n",
            "********* Iteration: 1 ************ \n",
            "K-Means converged after 2 iterations.\n",
            "cluster #1 Tweet cluster size: 1007\n",
            "cluster #2 Tweet cluster size: 1983\n",
            "cluster #3 Tweet cluster size: 767\n",
            "cluster #4 Tweet cluster size: 379\n",
            "cluster #5 Tweet cluster size: 2109\n",
            "==> SSE : 270.1042\n",
            "\n",
            "------------------- K=6-------------------\n",
            "********* Iteration: 0 ************ \n",
            "********* Iteration: 1 ************ \n",
            "K-Means converged after 2 iterations.\n",
            "cluster #1 Tweet cluster size: 1921\n",
            "cluster #2 Tweet cluster size: 1228\n",
            "cluster #3 Tweet cluster size: 472\n",
            "cluster #4 Tweet cluster size: 1480\n",
            "cluster #5 Tweet cluster size: 577\n",
            "cluster #6 Tweet cluster size: 567\n",
            "==> SSE : 259.6326\n",
            "\n",
            "Minimum SSE obtained at K=6, SSE=259.6326\n"
          ]
        }
      ],
      "source": [
        "initial_k = 1\n",
        "max_k = 6\n",
        "\n",
        "sse_info = dict()\n",
        "for k in range(initial_k, max_k+1):\n",
        "    print(\"------------------- K={}-------------------\".format(k))\n",
        "    clusters, sse = k_means(pre_process_tweets, k)\n",
        "    cluster_lengths = []\n",
        "    \n",
        "    for c in range(len(clusters)):\n",
        "        cluster_len = len(clusters[c])\n",
        "        cluster_lengths.append(cluster_len)\n",
        "        print(\"cluster #{} Tweet cluster size: {}\".format(c+1, cluster_len))\n",
        "\n",
        "    sse_info[k] = (sse, cluster_lengths)\n",
        "    print(\"==> SSE : {:.4f}\\n\".format(sse))\n",
        "\n",
        "min_sse_info = sorted(sse_info.items(), key=lambda info: info[1][0])[0]\n",
        "print(\"Minimum SSE obtained at K={}, SSE={:.4f}\".format(min_sse_info[0], min_sse_info[1][0]))\n"
      ]
    },
    {
      "cell_type": "markdown",
      "source": [
        "### Results and Analysis\n",
        "SSE versus K curve"
      ],
      "metadata": {
        "id": "ZMwKdn5kiFGV"
      }
    },
    {
      "cell_type": "code",
      "source": [
        "plt.figure(figsize=(8,8))\n",
        "label = ''\n",
        "K_values = list(sse_info.keys())\n",
        "sse_values = list(map(lambda info : info[0], sse_info.values()))\n",
        "plt.plot(K_values, sse_values, label=label, marker='o')  \n",
        "plt.xticks(np.arange(min(K_values), max(K_values) + 1, 1))\n",
        "plt.title(\"SSE vs K Curve\") \n",
        "plt.xlabel(\"K values\")\n",
        "plt.ylabel(\"Sum of Squared Error (SSE)\")\n",
        "plt.legend()\n",
        "\n",
        "#Writing values for the curve plot\n",
        "for k, sse in zip(K_values, sse_values):\n",
        "    plt.text(k, sse+0.2, str(\"{:.2f}\".format(sse)))\n"
      ],
      "metadata": {
        "id": "KggxiM3XWUg4",
        "colab": {
          "base_uri": "https://localhost:8080/",
          "height": 531
        },
        "outputId": "857bdf64-62f4-4a6f-b6b9-e99fc0a98ef6"
      },
      "execution_count": 28,
      "outputs": [
        {
          "output_type": "stream",
          "name": "stderr",
          "text": [
            "No handles with labels found to put in legend.\n"
          ]
        },
        {
          "output_type": "display_data",
          "data": {
            "text/plain": [
              "<Figure size 576x576 with 1 Axes>"
            ],
            "image/png": "[encoded data removed]"
          },
          "metadata": {
            "needs_background": "light"
          }
        }
      ]
    },
    {
      "cell_type": "markdown",
      "source": [
        "Cluster Size vs Cluster Index curve"
      ],
      "metadata": {
        "id": "Ua3FZvPXBD7J"
      }
    },
    {
      "cell_type": "code",
      "source": [
        "max_iter = 0\n",
        "outputs = []\n",
        "for i, k in enumerate(K_values):\n",
        "  cluster_size = sse_info[k][1]\n",
        "  size = [c // 10 for c in cluster_size]\n",
        "  #plt.subplot(plt_rows, plt_cols, i+1)\n",
        "  label = \"K={}\".format(k)\n",
        "  max_iter = max(max_iter, len(cluster_size))\n",
        "  plt.scatter(range(1, len(cluster_size) +1), cluster_size,s=size, label=label)\n",
        "\n",
        "  outputs.append({\n",
        "      \"K value\": k,\n",
        "      \"Sum of Squared Error\": sse_info[k][0],\n",
        "      \"Cluster Sizes\": sse_info[k][1]\n",
        "  })\n",
        "\n",
        "plt.xticks(range(1, max_iter + 1))\n",
        "plt.title(\"Cluster Size vs Cluster Index curve\") \n",
        "plt.xlabel(\"Cluster Index\")\n",
        "plt.ylabel(\"Cluster Size\")\n",
        "plt.legend()\n",
        "  "
      ],
      "metadata": {
        "id": "DFRL3lJ0jjGM",
        "colab": {
          "base_uri": "https://localhost:8080/",
          "height": 313
        },
        "outputId": "0b3b9203-18de-4054-f841-3d08bf494fa8"
      },
      "execution_count": 33,
      "outputs": [
        {
          "output_type": "execute_result",
          "data": {
            "text/plain": [
              "<matplotlib.legend.Legend at 0x7f5e906a9c90>"
            ]
          },
          "metadata": {},
          "execution_count": 33
        },
        {
          "output_type": "display_data",
          "data": {
            "text/plain": [
              "<Figure size 432x288 with 1 Axes>"
            ],
            "image/png": "[encoded data removed]"
          },
          "metadata": {
            "needs_background": "light"
          }
        }
      ]
    },
    {
      "cell_type": "code",
      "source": [
        "pd.options.display.float_format = \"{:,.4f}\".format\n",
        "pd.DataFrame(outputs)"
      ],
      "metadata": {
        "id": "eEr8JERvtTpO",
        "colab": {
          "base_uri": "https://localhost:8080/",
          "height": 237
        },
        "outputId": "9a4b646e-daf8-4ebb-bac7-9615b98af761"
      },
      "execution_count": 34,
      "outputs": [
        {
          "output_type": "execute_result",
          "data": {
            "text/plain": [
              "   K value  Sum of Squared Error                      Cluster Sizes\n",
              "0        1              377.2097                             [6245]\n",
              "1        2              340.9336                        [5298, 947]\n",
              "2        3              309.4571                  [3388, 974, 1883]\n",
              "3        4              281.4147            [879, 1686, 2637, 1043]\n",
              "4        5              270.1042       [1007, 1983, 767, 379, 2109]\n",
              "5        6              259.6326  [1921, 1228, 472, 1480, 577, 567]"
            ],
            "text/html": [
              "\n",
              "  <div id=\"df-feb19719-0cd2-4970-bf19-f242030c5a53\">\n",
              "    <div class=\"colab-df-container\">\n",
              "      <div>\n",
              "<style scoped>\n",
              "    .dataframe tbody tr th:only-of-type {\n",
              "        vertical-align: middle;\n",
              "    }\n",
              "\n",
              "    .dataframe tbody tr th {\n",
              "        vertical-align: top;\n",
              "    }\n",
              "\n",
              "    .dataframe thead th {\n",
              "        text-align: right;\n",
              "    }\n",
              "</style>\n",
              "<table border=\"1\" class=\"dataframe\">\n",
              "  <thead>\n",
              "    <tr style=\"text-align: right;\">\n",
              "      <th></th>\n",
              "      <th>K value</th>\n",
              "      <th>Sum of Squared Error</th>\n",
              "      <th>Cluster Sizes</th>\n",
              "    </tr>\n",
              "  </thead>\n",
              "  <tbody>\n",
              "    <tr>\n",
              "      <th>0</th>\n",
              "      <td>1</td>\n",
              "      <td>377.2097</td>\n",
              "      <td>[6245]</td>\n",
              "    </tr>\n",
              "    <tr>\n",
              "      <th>1</th>\n",
              "      <td>2</td>\n",
              "      <td>340.9336</td>\n",
              "      <td>[5298, 947]</td>\n",
              "    </tr>\n",
              "    <tr>\n",
              "      <th>2</th>\n",
              "      <td>3</td>\n",
              "      <td>309.4571</td>\n",
              "      <td>[3388, 974, 1883]</td>\n",
              "    </tr>\n",
              "    <tr>\n",
              "      <th>3</th>\n",
              "      <td>4</td>\n",
              "      <td>281.4147</td>\n",
              "      <td>[879, 1686, 2637, 1043]</td>\n",
              "    </tr>\n",
              "    <tr>\n",
              "      <th>4</th>\n",
              "      <td>5</td>\n",
              "      <td>270.1042</td>\n",
              "      <td>[1007, 1983, 767, 379, 2109]</td>\n",
              "    </tr>\n",
              "    <tr>\n",
              "      <th>5</th>\n",
              "      <td>6</td>\n",
              "      <td>259.6326</td>\n",
              "      <td>[1921, 1228, 472, 1480, 577, 567]</td>\n",
              "    </tr>\n",
              "  </tbody>\n",
              "</table>\n",
              "</div>\n",
              "      <button class=\"colab-df-convert\" onclick=\"convertToInteractive('df-feb19719-0cd2-4970-bf19-f242030c5a53')\"\n",
              "              title=\"Convert this dataframe to an interactive table.\"\n",
              "              style=\"display:none;\">\n",
              "        \n",
              "  <svg xmlns=\"http://www.w3.org/2000/svg\" height=\"24px\"viewBox=\"0 0 24 24\"\n",
              "       width=\"24px\">\n",
              "    <path d=\"M0 0h24v24H0V0z\" fill=\"none\"/>\n",
              "    <path d=\"M18.56 5.44l.94 2.06.94-2.06 2.06-.94-2.06-.94-.94-2.06-.94 2.06-2.06.94zm-11 1L8.5 8.5l.94-2.06 2.06-.94-2.06-.94L8.5 2.5l-.94 2.06-2.06.94zm10 10l.94 2.06.94-2.06 2.06-.94-2.06-.94-.94-2.06-.94 2.06-2.06.94z\"/><path d=\"M17.41 7.96l-1.37-1.37c-.4-.4-.92-.59-1.43-.59-.52 0-1.04.2-1.43.59L10.3 9.45l-7.72 7.72c-.78.78-.78 2.05 0 2.83L4 21.41c.39.39.9.59 1.41.59.51 0 1.02-.2 1.41-.59l7.78-7.78 2.81-2.81c.8-.78.8-2.07 0-2.86zM5.41 20L4 18.59l7.72-7.72 1.47 1.35L5.41 20z\"/>\n",
              "  </svg>\n",
              "      </button>\n",
              "      \n",
              "  <style>\n",
              "    .colab-df-container {\n",
              "      display:flex;\n",
              "      flex-wrap:wrap;\n",
              "      gap: 12px;\n",
              "    }\n",
              "\n",
              "    .colab-df-convert {\n",
              "      background-color: #E8F0FE;\n",
              "      border: none;\n",
              "      border-radius: 50%;\n",
              "      cursor: pointer;\n",
              "      display: none;\n",
              "      fill: #1967D2;\n",
              "      height: 32px;\n",
              "      padding: 0 0 0 0;\n",
              "      width: 32px;\n",
              "    }\n",
              "\n",
              "    .colab-df-convert:hover {\n",
              "      background-color: #E2EBFA;\n",
              "      box-shadow: 0px 1px 2px rgba(60, 64, 67, 0.3), 0px 1px 3px 1px rgba(60, 64, 67, 0.15);\n",
              "      fill: #174EA6;\n",
              "    }\n",
              "\n",
              "    [theme=dark] .colab-df-convert {\n",
              "      background-color: #3B4455;\n",
              "      fill: #D2E3FC;\n",
              "    }\n",
              "\n",
              "    [theme=dark] .colab-df-convert:hover {\n",
              "      background-color: #434B5C;\n",
              "      box-shadow: 0px 1px 3px 1px rgba(0, 0, 0, 0.15);\n",
              "      filter: drop-shadow(0px 1px 2px rgba(0, 0, 0, 0.3));\n",
              "      fill: #FFFFFF;\n",
              "    }\n",
              "  </style>\n",
              "\n",
              "      <script>\n",
              "        const buttonEl =\n",
              "          document.querySelector('#df-feb19719-0cd2-4970-bf19-f242030c5a53 button.colab-df-convert');\n",
              "        buttonEl.style.display =\n",
              "          google.colab.kernel.accessAllowed ? 'block' : 'none';\n",
              "\n",
              "        async function convertToInteractive(key) {\n",
              "          const element = document.querySelector('#df-feb19719-0cd2-4970-bf19-f242030c5a53');\n",
              "          const dataTable =\n",
              "            await google.colab.kernel.invokeFunction('convertToInteractive',\n",
              "                                                     [key], {});\n",
              "          if (!dataTable) return;\n",
              "\n",
              "          const docLinkHtml = 'Like what you see? Visit the ' +\n",
              "            '<a target=\"_blank\" href=https://colab.research.google.com/notebooks/data_table.ipynb>data table notebook</a>'\n",
              "            + ' to learn more about interactive tables.';\n",
              "          element.innerHTML = '';\n",
              "          dataTable['output_type'] = 'display_data';\n",
              "          await google.colab.output.renderOutput(dataTable, element);\n",
              "          const docLink = document.createElement('div');\n",
              "          docLink.innerHTML = docLinkHtml;\n",
              "          element.appendChild(docLink);\n",
              "        }\n",
              "      </script>\n",
              "    </div>\n",
              "  </div>\n",
              "  "
            ]
          },
          "metadata": {},
          "execution_count": 34
        }
      ]
    }
  ],
  "metadata": {
    "accelerator": "GPU",
    "colab": {
      "name": "kmeansclustering.ipynb",
      "provenance": [],
      "collapsed_sections": [],
      "include_colab_link": true
    },
    "kernelspec": {
      "display_name": "Python 3",
      "name": "python3"
    },
    "language_info": {
      "name": "python"
    }
  },
  "nbformat": 4,
  "nbformat_minor": 0
}