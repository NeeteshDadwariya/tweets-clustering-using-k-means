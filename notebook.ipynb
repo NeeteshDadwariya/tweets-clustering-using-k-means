{
 "cells": [
  {
   "cell_type": "markdown",
   "source": [],
   "metadata": {
    "collapsed": false
   }
  },
  {
   "cell_type": "code",
   "execution_count": 2,
   "metadata": {
    "collapsed": true
   },
   "outputs": [],
   "source": [
    "import os.path\n",
    "!unzip -o Health-News-Tweets.zip &> /dev/null"
   ]
  },
  {
   "cell_type": "markdown",
   "source": [
    "Importing required libraries"
   ],
   "metadata": {
    "collapsed": false
   }
  },
  {
   "cell_type": "code",
   "execution_count": 13,
   "outputs": [],
   "source": [
    "import os\n",
    "import re"
   ],
   "metadata": {
    "collapsed": false,
    "pycharm": {
     "name": "#%%\n"
    }
   }
  },
  {
   "cell_type": "code",
   "execution_count": 15,
   "outputs": [],
   "source": [
    "tweet_folder = './Health-Tweets'\n",
    "tweet_file = 'reuters_health.txt'\n",
    "\n",
    "#Reading the tweets file\n",
    "with open(os.path.join(tweet_folder, tweet_file)) as f:\n",
    "    tweets = f.readlines()\n"
   ],
   "metadata": {
    "collapsed": false,
    "pycharm": {
     "name": "#%%\n"
    }
   }
  },
  {
   "cell_type": "code",
   "execution_count": 17,
   "outputs": [
    {
     "name": "stdout",
     "output_type": "stream",
     "text": [
      "586282503981375488|Thu Apr 09 21:40:16 +0000 2015|Los Angeles closes 500 medical marijuana shops, but hundreds remain http://reut.rs/1CvkXmm\n",
      "\n",
      "586278524748750848|Thu Apr 09 21:24:27 +0000 2015|U.S. cuts poultry export forecast as deadly bird flu spreads http://reut.rs/1abCAQY\n",
      "\n",
      "586273441801699328|Thu Apr 09 21:04:15 +0000 2015|Fears over Roundup herbicide residues prompt private testing http://reut.rs/1DpfmCU\n",
      "\n",
      "586254712523096068|Thu Apr 09 19:49:50 +0000 2015|Liberia watchdog says some Ebola funds unaccounted for http://reut.rs/1Dp1vfF\n",
      "\n",
      "586243976333787137|Thu Apr 09 19:07:10 +0000 2015|Diabetes devices may interfere with avalanche beacon signals http://reut.rs/1DoTDLl\n",
      "\n"
     ]
    }
   ],
   "source": [
    "def print_tweets(tweets):\n",
    "    for tweet in tweets[:5]:\n",
    "        print(tweet)\n",
    "\n",
    "print_tweets(tweets)"
   ],
   "metadata": {
    "collapsed": false,
    "pycharm": {
     "name": "#%%\n"
    }
   }
  },
  {
   "cell_type": "markdown",
   "source": [
    "# Data preprocessing"
   ],
   "metadata": {
    "collapsed": false
   }
  },
  {
   "cell_type": "code",
   "execution_count": 20,
   "outputs": [
    {
     "name": "stdout",
     "output_type": "stream",
     "text": [
      "los angeles closes 500 medical marijuana shops, but hundreds remain \n",
      "\n",
      "u.s. cuts poultry export forecast as deadly bird flu spreads \n",
      "\n",
      "fears over roundup herbicide residues prompt private testing \n",
      "\n",
      "liberia watchdog says some ebola funds unaccounted for \n",
      "\n",
      "diabetes devices may interfere with avalanche beacon signals \n",
      "\n"
     ]
    }
   ],
   "source": [
    "def pre_process(tweet):\n",
    "    # Removing the tweet-id and the timestamp\n",
    "    tweet = tweet.split(\"|\")[2]\n",
    "    # Removing the words that are not starting from the character '@' or '#'\n",
    "    tweet = ' '.join(word for word in tweet.split(' ') if not word.startswith(('@', '#')))\n",
    "    # Removing URL from tweet\n",
    "    tweet = re.sub(r\"http\\S+\", \"\", tweet)\n",
    "    #Covert to lower case\n",
    "    tweet = tweet.lower()\n",
    "    return tweet\n",
    "\n",
    "processed_tweets = [pre_process(tweet) for tweet in tweets]\n",
    "print_tweets(processed_tweets)"
   ],
   "metadata": {
    "collapsed": false,
    "pycharm": {
     "name": "#%%\n"
    }
   }
  },
  {
   "cell_type": "code",
   "execution_count": null,
   "outputs": [],
   "source": [],
   "metadata": {
    "collapsed": false,
    "pycharm": {
     "name": "#%%\n"
    }
   }
  }
 ],
 "metadata": {
  "kernelspec": {
   "display_name": "Python 3",
   "language": "python",
   "name": "python3"
  },
  "language_info": {
   "codemirror_mode": {
    "name": "ipython",
    "version": 2
   },
   "file_extension": ".py",
   "mimetype": "text/x-python",
   "name": "python",
   "nbconvert_exporter": "python",
   "pygments_lexer": "ipython2",
   "version": "2.7.6"
  }
 },
 "nbformat": 4,
 "nbformat_minor": 0
}